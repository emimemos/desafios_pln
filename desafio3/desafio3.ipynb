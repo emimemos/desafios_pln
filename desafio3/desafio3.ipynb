{
 "cells": [
  {
   "cell_type": "markdown",
   "id": "67432170-7174-4348-84bc-1f1f794f86ea",
   "metadata": {},
   "source": [
    "Usamos el corpus \"shakespeare.txt\""
   ]
  },
  {
   "cell_type": "code",
   "execution_count": 1,
   "id": "a5214d76-9d72-4ff9-85c7-8ed3fc4f40c2",
   "metadata": {},
   "outputs": [
    {
     "name": "stdout",
     "output_type": "stream",
     "text": [
      "Downloading data from https://storage.googleapis.com/download.tensorflow.org/data/shakespeare.txt\n",
      "\u001b[1m1115394/1115394\u001b[0m \u001b[32m━━━━━━━━━━━━━━━━━━━━\u001b[0m\u001b[37m\u001b[0m \u001b[1m1s\u001b[0m 1us/step\n",
      "First Citizen:\n",
      "Before we proceed any further, hear me speak.\n",
      "\n",
      "All:\n",
      "Speak, speak.\n",
      "\n",
      "First Citizen:\n",
      "You are all resolved rather to die than to famish?\n",
      "\n",
      "All:\n",
      "Resolved. resolved.\n",
      "\n",
      "First Citizen:\n",
      "First, you know Caius Marcius is chief enemy to the people.\n",
      "\n",
      "All:\n",
      "We know't, we know't.\n",
      "\n",
      "First Citizen:\n",
      "Let us\n"
     ]
    }
   ],
   "source": [
    "import numpy as np\n",
    "import tensorflow as tf\n",
    "from tensorflow.keras.preprocessing.text import Tokenizer\n",
    "from tensorflow.keras.utils import pad_sequences\n",
    "import matplotlib.pyplot as plt\n",
    "\n",
    "# Descargar dataset (texto simple)\n",
    "path_to_file = tf.keras.utils.get_file('shakespeare.txt', \n",
    "                                       'https://storage.googleapis.com/download.tensorflow.org/data/shakespeare.txt')\n",
    "\n",
    "# Cargar texto\n",
    "with open(path_to_file, 'r') as f:\n",
    "    text = f.read()\n",
    "\n",
    "# Previsualizar texto\n",
    "print(text[:300])\n"
   ]
  },
  {
   "cell_type": "markdown",
   "id": "66a27c17-7304-4c29-94e1-56fd76e7678e",
   "metadata": {},
   "source": [
    "Convertimos el texto en secuencias de tokens."
   ]
  },
  {
   "cell_type": "code",
   "execution_count": 2,
   "id": "061129ea-b415-423f-bc8b-bc2f42ea7b0c",
   "metadata": {},
   "outputs": [
    {
     "name": "stdout",
     "output_type": "stream",
     "text": [
      "Tamaño de X: (204079, 10)\n",
      "Tamaño de y: (204079,)\n"
     ]
    }
   ],
   "source": [
    "# Tokenizar el texto\n",
    "tokenizer = Tokenizer()\n",
    "tokenizer.fit_on_texts([text])\n",
    "\n",
    "# Convertir a secuencias numéricas\n",
    "encoded_text = tokenizer.texts_to_sequences([text])[0]\n",
    "\n",
    "# Definir tamaño de contexto\n",
    "context_size = 10\n",
    "\n",
    "# Crear secuencias de entrada (X) y salida (y)\n",
    "X = []\n",
    "y = []\n",
    "for i in range(context_size, len(encoded_text)):\n",
    "    X.append(encoded_text[i-context_size:i])\n",
    "    y.append(encoded_text[i])\n",
    "\n",
    "X = np.array(X)\n",
    "y = np.array(y)\n",
    "\n",
    "# Dimensiones\n",
    "print(\"Tamaño de X:\", X.shape)\n",
    "print(\"Tamaño de y:\", y.shape)\n"
   ]
  },
  {
   "cell_type": "markdown",
   "id": "190bb223-b3ae-4cea-949b-26511e8193a0",
   "metadata": {},
   "source": [
    "Creamos un modelo LSTM para predecir la próxima palabra."
   ]
  },
  {
   "cell_type": "code",
   "execution_count": 3,
   "id": "5cd35ac7-8a7d-415c-aefa-10ffbcc25353",
   "metadata": {},
   "outputs": [
    {
     "name": "stderr",
     "output_type": "stream",
     "text": [
      "/opt/anaconda3/lib/python3.11/site-packages/keras/src/layers/core/embedding.py:90: UserWarning: Argument `input_length` is deprecated. Just remove it.\n",
      "  warnings.warn(\n"
     ]
    },
    {
     "data": {
      "text/html": [
       "<pre style=\"white-space:pre;overflow-x:auto;line-height:normal;font-family:Menlo,'DejaVu Sans Mono',consolas,'Courier New',monospace\"><span style=\"font-weight: bold\">Model: \"sequential\"</span>\n",
       "</pre>\n"
      ],
      "text/plain": [
       "\u001b[1mModel: \"sequential\"\u001b[0m\n"
      ]
     },
     "metadata": {},
     "output_type": "display_data"
    },
    {
     "data": {
      "text/html": [
       "<pre style=\"white-space:pre;overflow-x:auto;line-height:normal;font-family:Menlo,'DejaVu Sans Mono',consolas,'Courier New',monospace\">┏━━━━━━━━━━━━━━━━━━━━━━━━━━━━━━━━━┳━━━━━━━━━━━━━━━━━━━━━━━━┳━━━━━━━━━━━━━━━┓\n",
       "┃<span style=\"font-weight: bold\"> Layer (type)                    </span>┃<span style=\"font-weight: bold\"> Output Shape           </span>┃<span style=\"font-weight: bold\">       Param # </span>┃\n",
       "┡━━━━━━━━━━━━━━━━━━━━━━━━━━━━━━━━━╇━━━━━━━━━━━━━━━━━━━━━━━━╇━━━━━━━━━━━━━━━┩\n",
       "│ embedding (<span style=\"color: #0087ff; text-decoration-color: #0087ff\">Embedding</span>)           │ ?                      │   <span style=\"color: #00af00; text-decoration-color: #00af00\">0</span> (unbuilt) │\n",
       "├─────────────────────────────────┼────────────────────────┼───────────────┤\n",
       "│ lstm (<span style=\"color: #0087ff; text-decoration-color: #0087ff\">LSTM</span>)                     │ ?                      │   <span style=\"color: #00af00; text-decoration-color: #00af00\">0</span> (unbuilt) │\n",
       "├─────────────────────────────────┼────────────────────────┼───────────────┤\n",
       "│ dropout (<span style=\"color: #0087ff; text-decoration-color: #0087ff\">Dropout</span>)               │ ?                      │             <span style=\"color: #00af00; text-decoration-color: #00af00\">0</span> │\n",
       "├─────────────────────────────────┼────────────────────────┼───────────────┤\n",
       "│ lstm_1 (<span style=\"color: #0087ff; text-decoration-color: #0087ff\">LSTM</span>)                   │ ?                      │   <span style=\"color: #00af00; text-decoration-color: #00af00\">0</span> (unbuilt) │\n",
       "├─────────────────────────────────┼────────────────────────┼───────────────┤\n",
       "│ dense (<span style=\"color: #0087ff; text-decoration-color: #0087ff\">Dense</span>)                   │ ?                      │   <span style=\"color: #00af00; text-decoration-color: #00af00\">0</span> (unbuilt) │\n",
       "├─────────────────────────────────┼────────────────────────┼───────────────┤\n",
       "│ dense_1 (<span style=\"color: #0087ff; text-decoration-color: #0087ff\">Dense</span>)                 │ ?                      │   <span style=\"color: #00af00; text-decoration-color: #00af00\">0</span> (unbuilt) │\n",
       "└─────────────────────────────────┴────────────────────────┴───────────────┘\n",
       "</pre>\n"
      ],
      "text/plain": [
       "┏━━━━━━━━━━━━━━━━━━━━━━━━━━━━━━━━━┳━━━━━━━━━━━━━━━━━━━━━━━━┳━━━━━━━━━━━━━━━┓\n",
       "┃\u001b[1m \u001b[0m\u001b[1mLayer (type)                   \u001b[0m\u001b[1m \u001b[0m┃\u001b[1m \u001b[0m\u001b[1mOutput Shape          \u001b[0m\u001b[1m \u001b[0m┃\u001b[1m \u001b[0m\u001b[1m      Param #\u001b[0m\u001b[1m \u001b[0m┃\n",
       "┡━━━━━━━━━━━━━━━━━━━━━━━━━━━━━━━━━╇━━━━━━━━━━━━━━━━━━━━━━━━╇━━━━━━━━━━━━━━━┩\n",
       "│ embedding (\u001b[38;5;33mEmbedding\u001b[0m)           │ ?                      │   \u001b[38;5;34m0\u001b[0m (unbuilt) │\n",
       "├─────────────────────────────────┼────────────────────────┼───────────────┤\n",
       "│ lstm (\u001b[38;5;33mLSTM\u001b[0m)                     │ ?                      │   \u001b[38;5;34m0\u001b[0m (unbuilt) │\n",
       "├─────────────────────────────────┼────────────────────────┼───────────────┤\n",
       "│ dropout (\u001b[38;5;33mDropout\u001b[0m)               │ ?                      │             \u001b[38;5;34m0\u001b[0m │\n",
       "├─────────────────────────────────┼────────────────────────┼───────────────┤\n",
       "│ lstm_1 (\u001b[38;5;33mLSTM\u001b[0m)                   │ ?                      │   \u001b[38;5;34m0\u001b[0m (unbuilt) │\n",
       "├─────────────────────────────────┼────────────────────────┼───────────────┤\n",
       "│ dense (\u001b[38;5;33mDense\u001b[0m)                   │ ?                      │   \u001b[38;5;34m0\u001b[0m (unbuilt) │\n",
       "├─────────────────────────────────┼────────────────────────┼───────────────┤\n",
       "│ dense_1 (\u001b[38;5;33mDense\u001b[0m)                 │ ?                      │   \u001b[38;5;34m0\u001b[0m (unbuilt) │\n",
       "└─────────────────────────────────┴────────────────────────┴───────────────┘\n"
      ]
     },
     "metadata": {},
     "output_type": "display_data"
    },
    {
     "data": {
      "text/html": [
       "<pre style=\"white-space:pre;overflow-x:auto;line-height:normal;font-family:Menlo,'DejaVu Sans Mono',consolas,'Courier New',monospace\"><span style=\"font-weight: bold\"> Total params: </span><span style=\"color: #00af00; text-decoration-color: #00af00\">0</span> (0.00 B)\n",
       "</pre>\n"
      ],
      "text/plain": [
       "\u001b[1m Total params: \u001b[0m\u001b[38;5;34m0\u001b[0m (0.00 B)\n"
      ]
     },
     "metadata": {},
     "output_type": "display_data"
    },
    {
     "data": {
      "text/html": [
       "<pre style=\"white-space:pre;overflow-x:auto;line-height:normal;font-family:Menlo,'DejaVu Sans Mono',consolas,'Courier New',monospace\"><span style=\"font-weight: bold\"> Trainable params: </span><span style=\"color: #00af00; text-decoration-color: #00af00\">0</span> (0.00 B)\n",
       "</pre>\n"
      ],
      "text/plain": [
       "\u001b[1m Trainable params: \u001b[0m\u001b[38;5;34m0\u001b[0m (0.00 B)\n"
      ]
     },
     "metadata": {},
     "output_type": "display_data"
    },
    {
     "data": {
      "text/html": [
       "<pre style=\"white-space:pre;overflow-x:auto;line-height:normal;font-family:Menlo,'DejaVu Sans Mono',consolas,'Courier New',monospace\"><span style=\"font-weight: bold\"> Non-trainable params: </span><span style=\"color: #00af00; text-decoration-color: #00af00\">0</span> (0.00 B)\n",
       "</pre>\n"
      ],
      "text/plain": [
       "\u001b[1m Non-trainable params: \u001b[0m\u001b[38;5;34m0\u001b[0m (0.00 B)\n"
      ]
     },
     "metadata": {},
     "output_type": "display_data"
    }
   ],
   "source": [
    "from tensorflow.keras.models import Sequential\n",
    "from tensorflow.keras.layers import Embedding, LSTM, Dense, Dropout\n",
    "\n",
    "# Parámetros\n",
    "vocab_size = len(tokenizer.word_index) + 1  # Vocabulario\n",
    "embedding_dim = 50\n",
    "\n",
    "# Construir modelo\n",
    "model = Sequential([\n",
    "    Embedding(vocab_size, embedding_dim, input_length=context_size),\n",
    "    LSTM(128, return_sequences=True),\n",
    "    Dropout(0.2),\n",
    "    LSTM(128),\n",
    "    Dense(64, activation='relu'),\n",
    "    Dense(vocab_size, activation='softmax')\n",
    "])\n",
    "\n",
    "# Compilar modelo\n",
    "model.compile(loss='sparse_categorical_crossentropy', optimizer='adam', metrics=['accuracy'])\n",
    "model.summary()\n"
   ]
  },
  {
   "cell_type": "markdown",
   "id": "38270a9a-e2ec-4cac-975c-e50155eaa429",
   "metadata": {},
   "source": [
    "Entrenamos el modelo con los datos preprocesados."
   ]
  },
  {
   "cell_type": "code",
   "execution_count": 4,
   "id": "1e82cd13-0bde-4921-9b5c-d051f17c232c",
   "metadata": {},
   "outputs": [
    {
     "name": "stdout",
     "output_type": "stream",
     "text": [
      "Epoch 1/20\n",
      "\u001b[1m2551/2551\u001b[0m \u001b[32m━━━━━━━━━━━━━━━━━━━━\u001b[0m\u001b[37m\u001b[0m \u001b[1m86s\u001b[0m 33ms/step - accuracy: 0.0318 - loss: 7.0383 - val_accuracy: 0.0353 - val_loss: 6.9640\n",
      "Epoch 2/20\n",
      "\u001b[1m2551/2551\u001b[0m \u001b[32m━━━━━━━━━━━━━━━━━━━━\u001b[0m\u001b[37m\u001b[0m \u001b[1m82s\u001b[0m 32ms/step - accuracy: 0.0461 - loss: 6.4530 - val_accuracy: 0.0551 - val_loss: 6.9721\n",
      "Epoch 3/20\n",
      "\u001b[1m2551/2551\u001b[0m \u001b[32m━━━━━━━━━━━━━━━━━━━━\u001b[0m\u001b[37m\u001b[0m \u001b[1m83s\u001b[0m 32ms/step - accuracy: 0.0631 - loss: 6.2170 - val_accuracy: 0.0636 - val_loss: 7.0040\n",
      "Epoch 4/20\n",
      "\u001b[1m2551/2551\u001b[0m \u001b[32m━━━━━━━━━━━━━━━━━━━━\u001b[0m\u001b[37m\u001b[0m \u001b[1m90s\u001b[0m 35ms/step - accuracy: 0.0774 - loss: 6.0450 - val_accuracy: 0.0693 - val_loss: 7.0267\n",
      "Epoch 5/20\n",
      "\u001b[1m2551/2551\u001b[0m \u001b[32m━━━━━━━━━━━━━━━━━━━━\u001b[0m\u001b[37m\u001b[0m \u001b[1m82s\u001b[0m 32ms/step - accuracy: 0.0834 - loss: 5.9155 - val_accuracy: 0.0730 - val_loss: 7.1081\n",
      "Epoch 6/20\n",
      "\u001b[1m2551/2551\u001b[0m \u001b[32m━━━━━━━━━━━━━━━━━━━━\u001b[0m\u001b[37m\u001b[0m \u001b[1m91s\u001b[0m 36ms/step - accuracy: 0.0873 - loss: 5.7984 - val_accuracy: 0.0746 - val_loss: 7.1866\n",
      "Epoch 7/20\n",
      "\u001b[1m2551/2551\u001b[0m \u001b[32m━━━━━━━━━━━━━━━━━━━━\u001b[0m\u001b[37m\u001b[0m \u001b[1m84s\u001b[0m 33ms/step - accuracy: 0.0916 - loss: 5.7092 - val_accuracy: 0.0778 - val_loss: 7.3094\n",
      "Epoch 8/20\n",
      "\u001b[1m2551/2551\u001b[0m \u001b[32m━━━━━━━━━━━━━━━━━━━━\u001b[0m\u001b[37m\u001b[0m \u001b[1m87s\u001b[0m 34ms/step - accuracy: 0.0965 - loss: 5.6240 - val_accuracy: 0.0761 - val_loss: 7.4080\n",
      "Epoch 9/20\n",
      "\u001b[1m2551/2551\u001b[0m \u001b[32m━━━━━━━━━━━━━━━━━━━━\u001b[0m\u001b[37m\u001b[0m \u001b[1m88s\u001b[0m 34ms/step - accuracy: 0.0966 - loss: 5.5585 - val_accuracy: 0.0771 - val_loss: 7.5622\n",
      "Epoch 10/20\n",
      "\u001b[1m2551/2551\u001b[0m \u001b[32m━━━━━━━━━━━━━━━━━━━━\u001b[0m\u001b[37m\u001b[0m \u001b[1m90s\u001b[0m 35ms/step - accuracy: 0.1011 - loss: 5.4771 - val_accuracy: 0.0788 - val_loss: 7.6125\n",
      "Epoch 11/20\n",
      "\u001b[1m2551/2551\u001b[0m \u001b[32m━━━━━━━━━━━━━━━━━━━━\u001b[0m\u001b[37m\u001b[0m \u001b[1m89s\u001b[0m 35ms/step - accuracy: 0.1025 - loss: 5.4280 - val_accuracy: 0.0790 - val_loss: 7.6960\n",
      "Epoch 12/20\n",
      "\u001b[1m2551/2551\u001b[0m \u001b[32m━━━━━━━━━━━━━━━━━━━━\u001b[0m\u001b[37m\u001b[0m \u001b[1m88s\u001b[0m 35ms/step - accuracy: 0.1036 - loss: 5.3792 - val_accuracy: 0.0785 - val_loss: 7.7712\n",
      "Epoch 13/20\n",
      "\u001b[1m2551/2551\u001b[0m \u001b[32m━━━━━━━━━━━━━━━━━━━━\u001b[0m\u001b[37m\u001b[0m \u001b[1m92s\u001b[0m 36ms/step - accuracy: 0.1053 - loss: 5.3295 - val_accuracy: 0.0789 - val_loss: 7.9928\n",
      "Epoch 14/20\n",
      "\u001b[1m2551/2551\u001b[0m \u001b[32m━━━━━━━━━━━━━━━━━━━━\u001b[0m\u001b[37m\u001b[0m \u001b[1m84s\u001b[0m 33ms/step - accuracy: 0.1062 - loss: 5.2803 - val_accuracy: 0.0794 - val_loss: 8.0624\n",
      "Epoch 15/20\n",
      "\u001b[1m2551/2551\u001b[0m \u001b[32m━━━━━━━━━━━━━━━━━━━━\u001b[0m\u001b[37m\u001b[0m \u001b[1m83s\u001b[0m 33ms/step - accuracy: 0.1082 - loss: 5.2402 - val_accuracy: 0.0783 - val_loss: 8.2389\n",
      "Epoch 16/20\n",
      "\u001b[1m2551/2551\u001b[0m \u001b[32m━━━━━━━━━━━━━━━━━━━━\u001b[0m\u001b[37m\u001b[0m \u001b[1m82s\u001b[0m 32ms/step - accuracy: 0.1097 - loss: 5.1982 - val_accuracy: 0.0786 - val_loss: 8.3246\n",
      "Epoch 17/20\n",
      "\u001b[1m2551/2551\u001b[0m \u001b[32m━━━━━━━━━━━━━━━━━━━━\u001b[0m\u001b[37m\u001b[0m \u001b[1m83s\u001b[0m 32ms/step - accuracy: 0.1118 - loss: 5.1599 - val_accuracy: 0.0786 - val_loss: 8.4203\n",
      "Epoch 18/20\n",
      "\u001b[1m2551/2551\u001b[0m \u001b[32m━━━━━━━━━━━━━━━━━━━━\u001b[0m\u001b[37m\u001b[0m \u001b[1m103s\u001b[0m 40ms/step - accuracy: 0.1135 - loss: 5.1216 - val_accuracy: 0.0788 - val_loss: 8.5899\n",
      "Epoch 19/20\n",
      "\u001b[1m2551/2551\u001b[0m \u001b[32m━━━━━━━━━━━━━━━━━━━━\u001b[0m\u001b[37m\u001b[0m \u001b[1m91s\u001b[0m 36ms/step - accuracy: 0.1139 - loss: 5.0878 - val_accuracy: 0.0798 - val_loss: 8.6729\n",
      "Epoch 20/20\n",
      "\u001b[1m2551/2551\u001b[0m \u001b[32m━━━━━━━━━━━━━━━━━━━━\u001b[0m\u001b[37m\u001b[0m \u001b[1m82s\u001b[0m 32ms/step - accuracy: 0.1166 - loss: 5.0546 - val_accuracy: 0.0777 - val_loss: 8.7148\n"
     ]
    },
    {
     "data": {
      "image/png": "[encoded data removed]",
      "text/plain": [
       "<Figure size 640x480 with 1 Axes>"
      ]
     },
     "metadata": {},
     "output_type": "display_data"
    }
   ],
   "source": [
    "# Entrenar modelo\n",
    "history = model.fit(X, y, epochs=20, batch_size=64, validation_split=0.2)\n",
    "\n",
    "# Graficar pérdidas\n",
    "plt.plot(history.history['loss'], label='Train Loss')\n",
    "plt.plot(history.history['val_loss'], label='Validation Loss')\n",
    "plt.legend()\n",
    "plt.show()\n"
   ]
  },
  {
   "cell_type": "markdown",
   "id": "969c5dc2-fb79-428d-b1a6-929799355f33",
   "metadata": {},
   "source": [
    "Implementaremos Greedy Search y Muestreo Aleatorio."
   ]
  },
  {
   "cell_type": "code",
   "execution_count": 5,
   "id": "8bf41ef6-68e4-4c6d-934b-a33c5614d51c",
   "metadata": {},
   "outputs": [
    {
     "name": "stderr",
     "output_type": "stream",
     "text": [
      "/var/folders/lt/c50bhf4d2898xb7q5msv7_d00000gn/T/ipykernel_85219/2785052864.py:13: RuntimeWarning: divide by zero encountered in log\n",
      "  predictions = np.log(predictions) / temperature\n"
     ]
    },
    {
     "name": "stdout",
     "output_type": "stream",
     "text": [
      "Texto generado: to be or not to be taken to sleep to be a month to his cheeks\n"
     ]
    }
   ],
   "source": [
    "def generate_text(model, tokenizer, seed_text, max_length, n_words, strategy='greedy', temperature=1.0):\n",
    "    output_text = seed_text\n",
    "    for _ in range(n_words):\n",
    "        encoded = tokenizer.texts_to_sequences([output_text])[0]\n",
    "        padded = pad_sequences([encoded], maxlen=max_length, padding='pre')\n",
    "        \n",
    "        # Predicción\n",
    "        predictions = model.predict(padded, verbose=0)[0]\n",
    "        \n",
    "        if strategy == 'greedy':\n",
    "            predicted_word_index = np.argmax(predictions)\n",
    "        elif strategy == 'sampling':\n",
    "            predictions = np.log(predictions) / temperature\n",
    "            exp_preds = np.exp(predictions)\n",
    "            predictions = exp_preds / np.sum(exp_preds)\n",
    "            predicted_word_index = np.random.choice(range(len(predictions)), p=predictions)\n",
    "        \n",
    "        for word, index in tokenizer.word_index.items():\n",
    "            if index == predicted_word_index:\n",
    "                output_text += ' ' + word\n",
    "                break\n",
    "                \n",
    "    return output_text\n",
    "\n",
    "# Prueba de generación\n",
    "seed_text = \"to be or not to be\"\n",
    "generated_text = generate_text(model, tokenizer, seed_text, context_size, 10, strategy='sampling', temperature=0.7)\n",
    "print(\"Texto generado:\", generated_text)\n"
   ]
  },
  {
   "cell_type": "code",
   "execution_count": null,
   "id": "6f93ebf1-1d63-4366-b482-4d234bf8499a",
   "metadata": {},
   "outputs": [],
   "source": []
  }
 ],
 "metadata": {
  "kernelspec": {
   "display_name": "Python 3 (ipykernel)",
   "language": "python",
   "name": "python3"
  },
  "language_info": {
   "codemirror_mode": {
    "name": "ipython",
    "version": 3
   },
   "file_extension": ".py",
   "mimetype": "text/x-python",
   "name": "python",
   "nbconvert_exporter": "python",
   "pygments_lexer": "ipython3",
   "version": "3.11.8"
  }
 },
 "nbformat": 4,
 "nbformat_minor": 5
}
